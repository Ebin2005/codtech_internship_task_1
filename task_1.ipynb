{
  "nbformat": 4,
  "nbformat_minor": 0,
  "metadata": {
    "colab": {
      "provenance": [],
      "authorship_tag": "ABX9TyPM0UeYNtlOOgSdsC3VDC68",
      "include_colab_link": true
    },
    "kernelspec": {
      "name": "python3",
      "display_name": "Python 3"
    },
    "language_info": {
      "name": "python"
    }
  },
  "cells": [
    {
      "cell_type": "markdown",
      "metadata": {
        "id": "view-in-github",
        "colab_type": "text"
      },
      "source": [
        "<a href=\"https://colab.research.google.com/github/Ebin2005/codtech_internship_task_1/blob/main/task_1.ipynb\" target=\"_parent\"><img src=\"https://colab.research.google.com/assets/colab-badge.svg\" alt=\"Open In Colab\"/></a>"
      ]
    },
    {
      "cell_type": "code",
      "execution_count": null,
      "metadata": {
        "colab": {
          "base_uri": "https://localhost:8080/"
        },
        "id": "f9-KPOf6KnJv",
        "outputId": "6d38a245-d67f-4146-d8b5-fadd597d85c6"
      },
      "outputs": [
        {
          "output_type": "stream",
          "name": "stdout",
          "text": [
            "root\n",
            " |-- Airport_Code: string (nullable = true)\n",
            " |-- Airport_Name: string (nullable = true)\n",
            " |-- Time_Label: string (nullable = true)\n",
            " |-- Time_Month: integer (nullable = true)\n",
            " |-- Time_Month_Name: string (nullable = true)\n",
            " |-- Time_Year: integer (nullable = true)\n",
            " |-- Statistics___of_Delays_Carrier: integer (nullable = true)\n",
            " |-- Statistics___of_Delays_Late_Aircraft: integer (nullable = true)\n",
            " |-- Statistics___of_Delays_National_Aviation_System: integer (nullable = true)\n",
            " |-- Statistics___of_Delays_Security: integer (nullable = true)\n",
            " |-- Statistics___of_Delays_Weather: integer (nullable = true)\n",
            " |-- Statistics_Carriers_Names: string (nullable = true)\n",
            " |-- Statistics_Carriers_Total: integer (nullable = true)\n",
            " |-- Statistics_Flights_Cancelled: integer (nullable = true)\n",
            " |-- Statistics_Flights_Delayed: integer (nullable = true)\n",
            " |-- Statistics_Flights_Diverted: integer (nullable = true)\n",
            " |-- Statistics_Flights_On_Time: integer (nullable = true)\n",
            " |-- Statistics_Flights_Total: integer (nullable = true)\n",
            " |-- Statistics_Minutes_Delayed_Carrier: integer (nullable = true)\n",
            " |-- Statistics_Minutes_Delayed_Late_Aircraft: integer (nullable = true)\n",
            " |-- Statistics_Minutes_Delayed_National_Aviation_System: integer (nullable = true)\n",
            " |-- Statistics_Minutes_Delayed_Security: integer (nullable = true)\n",
            " |-- Statistics_Minutes_Delayed_Total: integer (nullable = true)\n",
            " |-- Statistics_Minutes_Delayed_Weather: integer (nullable = true)\n",
            "\n",
            "+------------+--------------------+----------+----------+---------------+---------+------------------------------+------------------------------------+-----------------------------------------------+-------------------------------+------------------------------+-------------------------+-------------------------+----------------------------+--------------------------+---------------------------+--------------------------+------------------------+----------------------------------+----------------------------------------+---------------------------------------------------+-----------------------------------+--------------------------------+----------------------------------+\n",
            "|Airport_Code|        Airport_Name|Time_Label|Time_Month|Time_Month_Name|Time_Year|Statistics___of_Delays_Carrier|Statistics___of_Delays_Late_Aircraft|Statistics___of_Delays_National_Aviation_System|Statistics___of_Delays_Security|Statistics___of_Delays_Weather|Statistics_Carriers_Names|Statistics_Carriers_Total|Statistics_Flights_Cancelled|Statistics_Flights_Delayed|Statistics_Flights_Diverted|Statistics_Flights_On_Time|Statistics_Flights_Total|Statistics_Minutes_Delayed_Carrier|Statistics_Minutes_Delayed_Late_Aircraft|Statistics_Minutes_Delayed_National_Aviation_System|Statistics_Minutes_Delayed_Security|Statistics_Minutes_Delayed_Total|Statistics_Minutes_Delayed_Weather|\n",
            "+------------+--------------------+----------+----------+---------------+---------+------------------------------+------------------------------------+-----------------------------------------------+-------------------------------+------------------------------+-------------------------+-------------------------+----------------------------+--------------------------+---------------------------+--------------------------+------------------------+----------------------------------+----------------------------------------+---------------------------------------------------+-----------------------------------+--------------------------------+----------------------------------+\n",
            "|         ATL|Atlanta, GA: Hart...|   2003/06|         6|           June|     2003|                          1009|                                1275|                                           3217|                             17|                           328|     American Airlines...|                       11|                         216|                      5843|                         27|                     23974|                   30060|                             61606|                                   68335|                                             118831|                                518|                          268764|                             19474|\n",
            "|         BOS|Boston, MA: Logan...|   2003/06|         6|           June|     2003|                           374|                                 495|                                            685|                              3|                            66|     American Airlines...|                       14|                         138|                      1623|                          3|                      7875|                    9639|                             20319|                                   28189|                                              24400|                                 99|                           77167|                              4160|\n",
            "|         BWI|Baltimore, MD: Ba...|   2003/06|         6|           June|     2003|                           296|                                 477|                                            389|                              8|                            78|     American Airlines...|                       11|                          29|                      1245|                         15|                      6998|                    8287|                             13635|                                   26810|                                              17556|                                278|                           64480|                              6201|\n",
            "|         CLT|Charlotte, NC: Ch...|   2003/06|         6|           June|     2003|                           300|                                 472|                                            735|                              2|                            54|     American Airlines...|                       11|                          73|                      1562|                         14|                      7021|                    8670|                             14763|                                   23379|                                              23804|                                127|                           65865|                              3792|\n",
            "|         DCA|Washington, DC: R...|   2003/06|         6|           June|     2003|                           283|                                 268|                                            487|                              4|                            58|     American Airlines...|                       13|                          74|                      1100|                         18|                      5321|                    6513|                             13775|                                   13712|                                              20999|                                120|                           52747|                              4141|\n",
            "+------------+--------------------+----------+----------+---------------+---------+------------------------------+------------------------------------+-----------------------------------------------+-------------------------------+------------------------------+-------------------------+-------------------------+----------------------------+--------------------------+---------------------------+--------------------------+------------------------+----------------------------------+----------------------------------------+---------------------------------------------------+-----------------------------------+--------------------------------+----------------------------------+\n",
            "only showing top 5 rows\n",
            "\n",
            "+-------------------------+------------+\n",
            "|Statistics_Carriers_Names|TotalFlights|\n",
            "+-------------------------+------------+\n",
            "|     American Airlines...|           1|\n",
            "|     American Airlines...|           5|\n",
            "|     American Airlines...|           4|\n",
            "|     American Airlines...|           6|\n",
            "|     American Airlines...|           2|\n",
            "|     American Airlines...|           2|\n",
            "|     American Airlines...|           4|\n",
            "|     American Airlines...|           5|\n",
            "|     Pinnacle Airlines...|           2|\n",
            "|     Pinnacle Airlines...|           3|\n",
            "|     American Airlines...|           2|\n",
            "|     American Airlines...|           1|\n",
            "|     American Airlines...|           9|\n",
            "|     Continental Air L...|           3|\n",
            "|     Pinnacle Airlines...|           5|\n",
            "|     American Airlines...|           1|\n",
            "|     Pinnacle Airlines...|           8|\n",
            "|     American Airlines...|          26|\n",
            "|     American Airlines...|          10|\n",
            "|     Endeavor Air Inc....|           4|\n",
            "+-------------------------+------------+\n",
            "only showing top 20 rows\n",
            "\n",
            "+-------------------------+--------------------+\n",
            "|Statistics_Carriers_Names|AvgTotalDelayMinutes|\n",
            "+-------------------------+--------------------+\n",
            "|     American Airlines...|            695134.4|\n",
            "|     American Airlines...|   676765.3333333334|\n",
            "|     American Airlines...|            624203.0|\n",
            "|     American Airlines...|   622983.7272727273|\n",
            "|     American Airlines...|            587303.0|\n",
            "|     American Airlines...|   571824.4166666666|\n",
            "|     American Airlines...|          547522.125|\n",
            "|     American Airlines...|            543476.5|\n",
            "|     American Airlines...|   524251.3333333333|\n",
            "|     American Airlines...|  510386.14285714284|\n",
            "|     American Airlines...|           494256.25|\n",
            "|     Pinnacle Airlines...|   492412.6818181818|\n",
            "|     Pinnacle Airlines...|            472715.0|\n",
            "|     American Airlines...|            466872.6|\n",
            "|     American Airlines...|   447450.6666666667|\n",
            "|     American Airlines...|            437727.0|\n",
            "|     Pinnacle Airlines...|            428004.4|\n",
            "|     Pinnacle Airlines...|  415091.14285714284|\n",
            "|     American Airlines...|            406744.6|\n",
            "|     American Airlines...|            404073.5|\n",
            "+-------------------------+--------------------+\n",
            "only showing top 20 rows\n",
            "\n"
          ]
        }
      ],
      "source": [
        "from pyspark.sql import SparkSession\n",
        "from pyspark.sql.functions import col, count, avg\n",
        "\n",
        "\n",
        "spark = SparkSession.builder \\\n",
        "    .appName(\"Airline Data Analysis\") \\\n",
        "    .getOrCreate()\n",
        "\n",
        "\n",
        "df = spark.read.csv(\"airlines.csv\", header=True, inferSchema=True)\n",
        "\n",
        "\n",
        "cleaned_columns = [c.replace('.', '_').replace('#', '_').replace(' ', '_') for c in df.columns]\n",
        "df = df.toDF(*cleaned_columns)\n",
        "\n",
        "\n",
        "df.printSchema()\n",
        "df.show(5)\n",
        "\n",
        "\n",
        "df_clean = df.dropna()\n",
        "\n",
        "\n",
        "flights_per_airline = df_clean.groupBy(\"Statistics_Carriers_Names\").agg(count(\"*\").alias(\"TotalFlights\"))\n",
        "flights_per_airline.show()\n",
        "\n",
        "\n",
        "avg_delay = df_clean.groupBy(\"Statistics_Carriers_Names\").agg(avg(\"Statistics_Minutes_Delayed_Total\").alias(\"AvgTotalDelayMinutes\"))\n",
        "avg_delay.orderBy(col(\"AvgTotalDelayMinutes\").desc()).show()\n",
        "\n",
        "\n",
        "spark.stop()"
      ]
    },
    {
      "cell_type": "code",
      "source": [],
      "metadata": {
        "id": "I2mtytKkK-BP"
      },
      "execution_count": null,
      "outputs": []
    }
  ]
}